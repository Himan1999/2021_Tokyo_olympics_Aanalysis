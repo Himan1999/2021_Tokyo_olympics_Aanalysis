{
 "cells": [
  {
   "cell_type": "markdown",
   "metadata": {
    "application/vnd.databricks.v1+cell": {
     "cellMetadata": {},
     "inputWidgets": {},
     "nuid": "d78ff668-412e-4f5d-b04f-370028fef758",
     "showTitle": false,
     "tableResultSettingsMap": {},
     "title": ""
    }
   },
   "source": [
    "**Configuring the conncection of Storage account to Databricks**"
   ]
  },
  {
   "cell_type": "code",
   "execution_count": 0,
   "metadata": {
    "application/vnd.databricks.v1+cell": {
     "cellMetadata": {
      "byteLimit": 2048000,
      "rowLimit": 10000
     },
     "inputWidgets": {},
     "nuid": "19d5ea93-2d0b-4dcb-a6e8-18d3ca198293",
     "showTitle": false,
     "tableResultSettingsMap": {},
     "title": ""
    }
   },
   "outputs": [],
   "source": [
    "# configs = {\n",
    "#   \"fs.azure.account.auth.type\": \"OAuth\",\n",
    "#   \"fs.azure.account.oauth.provider.type\": \"org.apache.hadoop.fs.azurebfs.oauth2.ClientCredsTokenProvider\",\n",
    "#   \"fs.azure.account.oauth2.client.id\": <,client_id>\",\n",
    "#   \"fs.azure.account.oauth2.client.secret\": \"<client_secret>\",\n",
    "#   \"fs.azure.account.oauth2.client.endpoint\": \"https://login.microsoftonline.com/c1e131c8-7164-4dcd-b68c-fbd599c579b4/oauth2/token\"\n",
    "# }\n",
    "\n",
    "# dbutils.fs.mount(\n",
    "#     source = \"abfss://<conainer_name>@<storage_account>.dfs.core.windows.net/\",\n",
    "#     mount_point = \"/mnt/tokyo_olympic\",\n",
    "#     extra_configs = configs)"
   ]
  },
  {
   "cell_type": "markdown",
   "metadata": {
    "application/vnd.databricks.v1+cell": {
     "cellMetadata": {
      "byteLimit": 2048000,
      "rowLimit": 10000
     },
     "inputWidgets": {},
     "nuid": "dae2f2e5-e362-43f0-a2e0-54c51e889699",
     "showTitle": false,
     "tableResultSettingsMap": {},
     "title": ""
    }
   },
   "source": [
    "**Navigate to the files**"
   ]
  },
  {
   "cell_type": "code",
   "execution_count": 0,
   "metadata": {
    "application/vnd.databricks.v1+cell": {
     "cellMetadata": {
      "byteLimit": 2048000,
      "rowLimit": 10000
     },
     "inputWidgets": {},
     "nuid": "a0106cbf-361d-410b-a32c-3c58cc521127",
     "showTitle": false,
     "tableResultSettingsMap": {},
     "title": ""
    }
   },
   "outputs": [
    {
     "data": {
      "text/html": [
       "<style scoped>\n",
       "  .table-result-container {\n",
       "    max-height: 300px;\n",
       "    overflow: auto;\n",
       "  }\n",
       "  table, th, td {\n",
       "    border: 1px solid black;\n",
       "    border-collapse: collapse;\n",
       "  }\n",
       "  th, td {\n",
       "    padding: 5px;\n",
       "  }\n",
       "  th {\n",
       "    text-align: left;\n",
       "  }\n",
       "</style><div class='table-result-container'><table class='table-result'><thead style='background-color: white'><tr><th>path</th><th>name</th><th>size</th><th>modificationTime</th></tr></thead><tbody><tr><td>dbfs:/mnt/tokyo_olympic/config_files/</td><td>config_files/</td><td>0</td><td>1714805825000</td></tr><tr><td>dbfs:/mnt/tokyo_olympic/raw_data/</td><td>raw_data/</td><td>0</td><td>1714805802000</td></tr><tr><td>dbfs:/mnt/tokyo_olympic/transformed_data/</td><td>transformed_data/</td><td>0</td><td>1714805816000</td></tr></tbody></table></div>"
      ]
     },
     "metadata": {
      "application/vnd.databricks.v1+output": {
       "addedWidgets": {},
       "aggData": [],
       "aggError": "",
       "aggOverflow": false,
       "aggSchema": [],
       "aggSeriesLimitReached": false,
       "aggType": "",
       "arguments": {},
       "columnCustomDisplayInfos": {},
       "data": [
        [
         "dbfs:/mnt/tokyo_olympic/config_files/",
         "config_files/",
         0,
         1714805825000
        ],
        [
         "dbfs:/mnt/tokyo_olympic/raw_data/",
         "raw_data/",
         0,
         1714805802000
        ],
        [
         "dbfs:/mnt/tokyo_olympic/transformed_data/",
         "transformed_data/",
         0,
         1714805816000
        ]
       ],
       "datasetInfos": [],
       "dbfsResultPath": null,
       "isJsonSchema": true,
       "metadata": {
        "isDbfsCommandResult": false
       },
       "overflow": false,
       "plotOptions": {
        "customPlotOptions": {},
        "displayType": "table",
        "pivotAggregation": null,
        "pivotColumns": null,
        "xColumns": null,
        "yColumns": null
       },
       "removedWidgets": [],
       "schema": [
        {
         "metadata": "{}",
         "name": "path",
         "type": "\"string\""
        },
        {
         "metadata": "{}",
         "name": "name",
         "type": "\"string\""
        },
        {
         "metadata": "{}",
         "name": "size",
         "type": "\"long\""
        },
        {
         "metadata": "{}",
         "name": "modificationTime",
         "type": "\"long\""
        }
       ],
       "type": "table"
      }
     },
     "output_type": "display_data"
    }
   ],
   "source": [
    "%fs\n",
    "ls \"mnt/tokyo_olympic\""
   ]
  },
  {
   "cell_type": "code",
   "execution_count": 0,
   "metadata": {
    "application/vnd.databricks.v1+cell": {
     "cellMetadata": {
      "byteLimit": 2048000,
      "rowLimit": 10000
     },
     "inputWidgets": {},
     "nuid": "086993cf-290a-4de0-9f1f-8f6dbea78ae0",
     "showTitle": false,
     "tableResultSettingsMap": {},
     "title": ""
    }
   },
   "outputs": [],
   "source": [
    "athletes = spark.read.format(\"csv\").option(\"header\",\"true\").option(\"inferSchema\",\"true\").load(\"/mnt/tokyo_olympic/raw_data/csv/Athletes.csv\")\n",
    "coaches = spark.read.format(\"csv\").option(\"header\",\"true\").option(\"inferSchema\",\"true\").load(\"/mnt/tokyo_olympic/raw_data/csv/Coaches.csv\")\n",
    "entriesGender = spark.read.format(\"csv\").option(\"header\",\"true\").option(\"inferSchema\",\"true\").load(\"/mnt/tokyo_olympic/raw_data/csv/EntriesGender.csv\")\n",
    "medals = spark.read.format(\"csv\").option(\"header\",\"true\").option(\"inferSchema\",\"true\").load(\"/mnt/tokyo_olympic/raw_data/csv/Medals.csv\")\n",
    "teams = spark.read.format(\"csv\").option(\"header\",\"true\").option(\"inferSchema\",\"true\").load(\"/mnt/tokyo_olympic/raw_data/csv/Teams.csv\")"
   ]
  },
  {
   "cell_type": "markdown",
   "metadata": {
    "application/vnd.databricks.v1+cell": {
     "cellMetadata": {},
     "inputWidgets": {},
     "nuid": "c539296a-d5c7-429d-a463-a52c989020e9",
     "showTitle": false,
     "tableResultSettingsMap": {},
     "title": ""
    }
   },
   "source": [
    "**Data Cleaning & Preprocessing**"
   ]
  },
  {
   "cell_type": "markdown",
   "metadata": {
    "application/vnd.databricks.v1+cell": {
     "cellMetadata": {},
     "inputWidgets": {},
     "nuid": "69b4c861-0a73-48fc-bd4c-90fda0e35535",
     "showTitle": false,
     "tableResultSettingsMap": {},
     "title": ""
    }
   },
   "source": [
    "1. Handle Missing Values (Nulls)"
   ]
  },
  {
   "cell_type": "code",
   "execution_count": 0,
   "metadata": {
    "application/vnd.databricks.v1+cell": {
     "cellMetadata": {
      "byteLimit": 2048000,
      "rowLimit": 10000
     },
     "inputWidgets": {},
     "nuid": "5dcebaed-38af-43e7-a6b5-e9b7d0305091",
     "showTitle": false,
     "tableResultSettingsMap": {},
     "title": ""
    }
   },
   "outputs": [],
   "source": [
    "# Drop nulls from all columns\n",
    "athletes = athletes.dropna()\n",
    "coaches = coaches.dropna()\n",
    "entriesGender = entriesGender.dropna()\n",
    "medals = medals.dropna()\n",
    "teams = teams.dropna()\n",
    "\n",
    "# OR fill with default values\n",
    "athletes = athletes.fillna({'Name': 'Unknown', 'NOC': 'UNK', 'Discipline': 'Unknown'})\n",
    "coaches = coaches.fillna({'Event': 'Unknown'})\n",
    "entriesGender = entriesGender.fillna({'Female': 0, 'Male': 0, 'Total': 0})\n",
    "medals = medals.fillna({'Gold': 0, 'Silver': 0, 'Bronze': 0})\n",
    "teams = teams.fillna({'Event': 'Unknown'})"
   ]
  },
  {
   "cell_type": "markdown",
   "metadata": {
    "application/vnd.databricks.v1+cell": {
     "cellMetadata": {},
     "inputWidgets": {},
     "nuid": "d8032d0e-4707-4894-9536-069605575290",
     "showTitle": false,
     "tableResultSettingsMap": {},
     "title": ""
    }
   },
   "source": [
    "2. Remove Duplicates"
   ]
  },
  {
   "cell_type": "code",
   "execution_count": 0,
   "metadata": {
    "application/vnd.databricks.v1+cell": {
     "cellMetadata": {
      "byteLimit": 2048000,
      "rowLimit": 10000
     },
     "inputWidgets": {},
     "nuid": "2ce1bd45-c245-409b-97a0-d45971955d5e",
     "showTitle": false,
     "tableResultSettingsMap": {},
     "title": ""
    }
   },
   "outputs": [],
   "source": [
    "athletes = athletes.dropDuplicates()\n",
    "coaches = coaches.dropDuplicates()\n",
    "entriesGender = entriesGender.dropDuplicates()\n",
    "medals = medals.dropDuplicates()\n",
    "teams = teams.dropDuplicates()"
   ]
  },
  {
   "cell_type": "code",
   "execution_count": 0,
   "metadata": {
    "application/vnd.databricks.v1+cell": {
     "cellMetadata": {
      "byteLimit": 2048000,
      "rowLimit": 10000
     },
     "inputWidgets": {},
     "nuid": "81ef9dcd-d1a5-4a5f-96ff-7f92d5de2fdb",
     "showTitle": false,
     "tableResultSettingsMap": {},
     "title": ""
    }
   },
   "outputs": [],
   "source": [
    "medals = medals.withColumnRenamed(\"Rank by Total\", \"Rank_by_Total\")"
   ]
  },
  {
   "cell_type": "markdown",
   "metadata": {
    "application/vnd.databricks.v1+cell": {
     "cellMetadata": {},
     "inputWidgets": {},
     "nuid": "0b88f43c-aa90-4194-93b3-1bfaf789427d",
     "showTitle": false,
     "tableResultSettingsMap": {},
     "title": ""
    }
   },
   "source": [
    "3. Normalize / Standardize Numeric Columns (Example: entriesGender and medals)"
   ]
  },
  {
   "cell_type": "code",
   "execution_count": 0,
   "metadata": {
    "application/vnd.databricks.v1+cell": {
     "cellMetadata": {
      "byteLimit": 2048000,
      "rowLimit": 10000
     },
     "inputWidgets": {},
     "nuid": "3f6099e2-ce91-456e-b057-16e57176658f",
     "showTitle": false,
     "tableResultSettingsMap": {},
     "title": ""
    }
   },
   "outputs": [],
   "source": [
    "from pyspark.ml.feature import VectorAssembler, StandardScaler\n",
    "\n",
    "# Example for 'entriesGender'\n",
    "vector_assembler = VectorAssembler(inputCols=[\"Female\", \"Male\", \"Total\"], outputCol=\"features\")\n",
    "entriesGender_vec = vector_assembler.transform(entriesGender)\n",
    "\n",
    "scaler = StandardScaler(inputCol=\"features\", outputCol=\"scaled_features\", withMean=True, withStd=True)\n",
    "entriesGender_scaled = scaler.fit(entriesGender_vec).transform(entriesGender_vec)\n",
    "\n",
    "# Example for 'medals'\n",
    "medals_vec = VectorAssembler(inputCols=[\"Gold\", \"Silver\", \"Bronze\", \"Total\"], outputCol=\"features\").transform(medals)\n",
    "medals_scaled = StandardScaler(inputCol=\"features\", outputCol=\"scaled_features\", withMean=True, withStd=True)\\\n",
    "                    .fit(medals_vec).transform(medals_vec)\n"
   ]
  },
  {
   "cell_type": "markdown",
   "metadata": {
    "application/vnd.databricks.v1+cell": {
     "cellMetadata": {},
     "inputWidgets": {},
     "nuid": "33c1c5d4-5b7e-4f92-b097-6dc3dae6b271",
     "showTitle": false,
     "tableResultSettingsMap": {},
     "title": ""
    }
   },
   "source": [
    "**Data Transformation**"
   ]
  },
  {
   "cell_type": "markdown",
   "metadata": {
    "application/vnd.databricks.v1+cell": {
     "cellMetadata": {},
     "inputWidgets": {},
     "nuid": "ced650f9-ee25-4cfa-8bff-3dbeff06b56c",
     "showTitle": false,
     "tableResultSettingsMap": {},
     "title": ""
    }
   },
   "source": [
    "1. Top Performing Countries by Medals:"
   ]
  },
  {
   "cell_type": "code",
   "execution_count": 0,
   "metadata": {
    "application/vnd.databricks.v1+cell": {
     "cellMetadata": {
      "byteLimit": 2048000,
      "rowLimit": 10000
     },
     "inputWidgets": {},
     "nuid": "a8ef8524-fba6-47aa-94b6-ce906cf1a0c5",
     "showTitle": false,
     "tableResultSettingsMap": {},
     "title": ""
    }
   },
   "outputs": [],
   "source": [
    "from pyspark.sql.functions import desc"
   ]
  },
  {
   "cell_type": "code",
   "execution_count": 0,
   "metadata": {
    "application/vnd.databricks.v1+cell": {
     "cellMetadata": {
      "byteLimit": 2048000,
      "rowLimit": 10000
     },
     "inputWidgets": {},
     "nuid": "9985a6f7-a52f-444b-9f88-ef3c5eeaa077",
     "showTitle": false,
     "tableResultSettingsMap": {},
     "title": ""
    }
   },
   "outputs": [
    {
     "name": "stdout",
     "output_type": "stream",
     "text": [
      "+--------------------+-----+\n",
      "|            Team/NOC|Total|\n",
      "+--------------------+-----+\n",
      "|United States of ...|  113|\n",
      "|People's Republic...|   88|\n",
      "|                 ROC|   71|\n",
      "|       Great Britain|   65|\n",
      "|               Japan|   58|\n",
      "|           Australia|   46|\n",
      "|               Italy|   40|\n",
      "|             Germany|   37|\n",
      "|         Netherlands|   36|\n",
      "|              France|   33|\n",
      "+--------------------+-----+\n",
      "only showing top 10 rows\n",
      "\n"
     ]
    }
   ],
   "source": [
    "top_countries = medals.orderBy(desc(\"Total\")).select(\"Team/NOC\", \"Total\")\n",
    "top_countries.show(10)"
   ]
  },
  {
   "cell_type": "markdown",
   "metadata": {
    "application/vnd.databricks.v1+cell": {
     "cellMetadata": {},
     "inputWidgets": {},
     "nuid": "22dd3973-c736-4251-93ff-e2ed66eaa389",
     "showTitle": false,
     "tableResultSettingsMap": {},
     "title": ""
    }
   },
   "source": [
    "2. Discipline-wise Gender Participation"
   ]
  },
  {
   "cell_type": "code",
   "execution_count": 0,
   "metadata": {
    "application/vnd.databricks.v1+cell": {
     "cellMetadata": {
      "byteLimit": 2048000,
      "rowLimit": 10000
     },
     "inputWidgets": {},
     "nuid": "d11a8a88-1062-4489-aa55-682b9b55108d",
     "showTitle": false,
     "tableResultSettingsMap": {},
     "title": ""
    }
   },
   "outputs": [
    {
     "name": "stdout",
     "output_type": "stream",
     "text": [
      "+--------------------+------------+----------+\n",
      "|          Discipline|Total Female|Total Male|\n",
      "+--------------------+------------+----------+\n",
      "|              Tennis|          94|        97|\n",
      "|              Boxing|         102|       187|\n",
      "|   Marathon Swimming|          25|        25|\n",
      "|                Golf|          60|        60|\n",
      "|              Rowing|         257|       265|\n",
      "|                Judo|         192|       201|\n",
      "|   Baseball/Softball|          90|       144|\n",
      "|             Sailing|         175|       175|\n",
      "|            Swimming|         361|       418|\n",
      "|Cycling BMX Frees...|          10|         9|\n",
      "|          Basketball|         144|       144|\n",
      "|            Handball|         168|       168|\n",
      "| Rhythmic Gymnastics|          96|         0|\n",
      "|              Karate|          40|        42|\n",
      "|           Triathlon|          55|        55|\n",
      "|           Badminton|          86|        87|\n",
      "|        Canoe Sprint|         123|       126|\n",
      "|           Athletics|         969|      1072|\n",
      "|       Cycling Track|          90|        99|\n",
      "|    Beach Volleyball|          48|        48|\n",
      "+--------------------+------------+----------+\n",
      "only showing top 20 rows\n",
      "\n"
     ]
    }
   ],
   "source": [
    "from pyspark.sql.functions import sum, col\n",
    "\n",
    "gender_participation = entriesGender.withColumn(\"Female\", entriesGender[\"Female\"].cast(\"int\")).withColumn(\"Male\", entriesGender[\"Male\"].cast(\"int\")) \\\n",
    "                                   .groupBy(\"Discipline\") \\\n",
    "                                   .agg(sum(col(\"Female\")).alias(\"Total Female\"),sum(col(\"Male\")).alias(\"Total Male\"))\n",
    "\n",
    "gender_participation.show()"
   ]
  },
  {
   "cell_type": "markdown",
   "metadata": {
    "application/vnd.databricks.v1+cell": {
     "cellMetadata": {},
     "inputWidgets": {},
     "nuid": "9928162a-0ba2-4baa-bab8-3bb3d7c5a3d8",
     "showTitle": false,
     "tableResultSettingsMap": {},
     "title": ""
    }
   },
   "source": [
    "3. Athletes and Coaches in the Same Discipline"
   ]
  },
  {
   "cell_type": "code",
   "execution_count": 0,
   "metadata": {
    "application/vnd.databricks.v1+cell": {
     "cellMetadata": {
      "byteLimit": 2048000,
      "rowLimit": 10000
     },
     "inputWidgets": {},
     "nuid": "68bfefe6-28c0-4b30-a1c8-464708e6275a",
     "showTitle": false,
     "tableResultSettingsMap": {},
     "title": ""
    }
   },
   "outputs": [
    {
     "name": "stdout",
     "output_type": "stream",
     "text": [
      "+--------------------+-----------------+-------------------+\n",
      "|                 NOC|       Discipline|Athlete_Coach_Ratio|\n",
      "+--------------------+-----------------+-------------------+\n",
      "|   Republic of Korea|Baseball/Softball|               22.0|\n",
      "|              Canada|         Football|               22.0|\n",
      "|              Israel|Baseball/Softball|               22.0|\n",
      "|           Australia|         Football|               21.5|\n",
      "|               Japan|         Football|               21.0|\n",
      "|              France|         Football|               21.0|\n",
      "|  Dominican Republic|Baseball/Softball|               21.0|\n",
      "|              Mexico|         Football|               21.0|\n",
      "|              Zambia|         Football|               21.0|\n",
      "|        Saudi Arabia|         Football|               21.0|\n",
      "|               Chile|         Football|               21.0|\n",
      "|       Great Britain|         Football|               21.0|\n",
      "|              Brazil|         Football|               20.5|\n",
      "|United States of ...|         Football|               20.0|\n",
      "|             Romania|         Football|               20.0|\n",
      "|People's Republic...|         Football|               20.0|\n",
      "|               Egypt|         Football|               20.0|\n",
      "|         Netherlands|         Football|               20.0|\n",
      "|       Côte d'Ivoire|         Football|               20.0|\n",
      "|              Sweden|         Football|               20.0|\n",
      "+--------------------+-----------------+-------------------+\n",
      "only showing top 20 rows\n",
      "\n"
     ]
    }
   ],
   "source": [
    "athlete_count = athletes.groupBy(\"NOC\", \"Discipline\").count().withColumnRenamed(\"count\", \"Athlete_Count\")\n",
    "coach_count = coaches.groupBy(\"NOC\", \"Discipline\").count().withColumnRenamed(\"count\", \"Coach_Count\")\n",
    "\n",
    "ratio_df = athlete_count.join(coach_count, [\"NOC\", \"Discipline\"], \"inner\").select(\n",
    "    col(\"NOC\"),\n",
    "    col(\"Discipline\"),\n",
    "    (col(\"Athlete_Count\") / col(\"Coach_Count\")).alias(\"Athlete_Coach_Ratio\")).orderBy(desc(\"Athlete_Coach_Ratio\"))\n",
    "\n",
    "ratio_df.show()"
   ]
  },
  {
   "cell_type": "markdown",
   "metadata": {
    "application/vnd.databricks.v1+cell": {
     "cellMetadata": {},
     "inputWidgets": {},
     "nuid": "01c60a9e-e6b3-4dc9-a722-ee7843c5f961",
     "showTitle": false,
     "tableResultSettingsMap": {},
     "title": ""
    }
   },
   "source": [
    "4. Athlete and Coach Overlap"
   ]
  },
  {
   "cell_type": "code",
   "execution_count": 0,
   "metadata": {
    "application/vnd.databricks.v1+cell": {
     "cellMetadata": {
      "byteLimit": 2048000,
      "rowLimit": 10000
     },
     "inputWidgets": {},
     "nuid": "f88e9efe-1ae1-4c3b-bc28-a38d9e9f9c5c",
     "showTitle": false,
     "tableResultSettingsMap": {},
     "title": ""
    }
   },
   "outputs": [
    {
     "name": "stdout",
     "output_type": "stream",
     "text": [
      "+-------------------+--------------------+-----------------+-------------+\n",
      "|       Athlete Name|          Coach Name|       Discipline|          NOC|\n",
      "+-------------------+--------------------+-----------------+-------------+\n",
      "|   GASPAROTTO Marta|  PIZZOLINI Federico|Baseball/Softball|        Italy|\n",
      "|          GIL Bryan|de la FUENTE CAST...|         Football|        Spain|\n",
      "|     KENNEDY Alanna|       ARNOLD Graham|         Football|    Australia|\n",
      "|     KULAGINA Daria| SVETLICHNAYA Aliona|Artistic Swimming|      Belarus|\n",
      "|         LITTLE Kim|          RIISE Hege|         Football|Great Britain|\n",
      "|        MOHAMED Ali|    PARRONDO Roberto|         Handball|        Egypt|\n",
      "|      MONETA Marcos| GOMEZ CORA Santiago|     Rugby Sevens|    Argentina|\n",
      "| NIAKATE Kalidiatou|     GILLE Guillaume|         Handball|       France|\n",
      "|          NWAMU Ike|     HUGHLEY JR Otis|       Basketball|      Nigeria|\n",
      "|          OLMO Dani|de la FUENTE CAST...|         Football|        Spain|\n",
      "|      RAMADAN Ahmed|       SHAWKY Gharib|         Football|        Egypt|\n",
      "|      TAKAHASHI Ran|         NAKADA Kumi|       Volleyball|        Japan|\n",
      "|       THOMAS Dylan|         SHAW Graham|           Hockey|  New Zealand|\n",
      "|    TOURNAT Nicolas|     GILLE Guillaume|         Handball|       France|\n",
      "|      VOLVICH Artem|       BUSATO Sergio|       Volleyball|          ROC|\n",
      "|        WILSON Nick|         SHAW Graham|           Hockey|  New Zealand|\n",
      "|BASTERRA Jose Maria|      SOYEZ Frederic|           Hockey|        Spain|\n",
      "|      de COLO Nando|     GARNIER Valerie|       Basketball|       France|\n",
      "|     DEDOVIC Nikola|         SAVIC Dejan|       Water Polo|       Serbia|\n",
      "|     DOUGLAS Justin|          PAUL Henry|     Rugby Sevens|       Canada|\n",
      "+-------------------+--------------------+-----------------+-------------+\n",
      "only showing top 20 rows\n",
      "\n"
     ]
    }
   ],
   "source": [
    "athletes_coaches = athletes.join(coaches, [\"NOC\", \"Discipline\"], \"inner\").select(athletes[\"Name\"].alias(\"Athlete Name\"), coaches[\"Name\"].alias(\"Coach Name\"), athletes[\"Discipline\"], athletes[\"NOC\"])\n",
    "athletes_coaches.show()\n"
   ]
  },
  {
   "cell_type": "markdown",
   "metadata": {
    "application/vnd.databricks.v1+cell": {
     "cellMetadata": {},
     "inputWidgets": {},
     "nuid": "18524bfc-673a-4462-9393-0025d95ca648",
     "showTitle": false,
     "tableResultSettingsMap": {},
     "title": ""
    }
   },
   "source": [
    "Save dataframes to csv in blob Storage after converting them to a pandas dataframe"
   ]
  },
  {
   "cell_type": "code",
   "execution_count": 0,
   "metadata": {
    "application/vnd.databricks.v1+cell": {
     "cellMetadata": {
      "byteLimit": 2048000,
      "rowLimit": 10000
     },
     "inputWidgets": {},
     "nuid": "15a5156d-91ef-4014-bcec-0eb31441431b",
     "showTitle": false,
     "tableResultSettingsMap": {},
     "title": ""
    }
   },
   "outputs": [],
   "source": [
    "athletes.write.mode(\"overwrite\").option(\"header\", True).csv(\"/mnt/tokyo_olympic/transformed_data/athletes\")\n",
    "coaches.write.mode(\"overwrite\").option(\"header\", True).csv(\"/mnt/tokyo_olympic/transformed_data/coaches\")\n",
    "entriesGender.write.mode(\"overwrite\").option(\"header\", True).csv(\"/mnt/tokyo_olympic/transformed_data/entries_gender\")\n",
    "medals.write.mode(\"overwrite\").option(\"header\", True).csv(\"/mnt/tokyo_olympic/transformed_data/medals\")\n",
    "teams.write.mode(\"overwrite\").option(\"header\", True).csv(\"/mnt/tokyo_olympic/transformed_data/teams\")"
   ]
  },
  {
   "cell_type": "code",
   "execution_count": 0,
   "metadata": {
    "application/vnd.databricks.v1+cell": {
     "cellMetadata": {
      "byteLimit": 2048000,
      "rowLimit": 10000
     },
     "inputWidgets": {},
     "nuid": "699fe202-dd23-42ef-81e7-984ca6ae386b",
     "showTitle": false,
     "tableResultSettingsMap": {},
     "title": ""
    }
   },
   "outputs": [
    {
     "data": {
      "text/plain": [
       "DataFrame[]"
      ]
     },
     "execution_count": 41,
     "metadata": {},
     "output_type": "execute_result"
    }
   ],
   "source": [
    "# Example: Set the catalog and database (use your actual DB name if different)\n",
    "spark.sql(\"USE CATALOG tokyo_olympics_db\")\n",
    "# spark.sql(\"USE SCHEMA default\")  # Or replace 'default' with your specific schema\n"
   ]
  },
  {
   "cell_type": "code",
   "execution_count": 0,
   "metadata": {
    "application/vnd.databricks.v1+cell": {
     "cellMetadata": {
      "byteLimit": 2048000,
      "rowLimit": 10000
     },
     "inputWidgets": {},
     "nuid": "9dbb424c-3002-42df-94e0-e6f4534996a2",
     "showTitle": false,
     "tableResultSettingsMap": {},
     "title": ""
    }
   },
   "outputs": [],
   "source": [
    "# Ensure you're using the correct database\n",
    "# spark.catalog.setCurrentDatabase(\"tokyo_olympics_db\")\n",
    "\n",
    "# Save each DataFrame as a Delta table\n",
    "athletes.write.mode(\"overwrite\").saveAsTable(\"athletes\")\n",
    "coaches.write.mode(\"overwrite\").saveAsTable(\"coaches\")\n",
    "entriesGender.write.mode(\"overwrite\").saveAsTable(\"entries_gender\")\n",
    "medals.write.mode(\"overwrite\").saveAsTable(\"medals\")\n",
    "teams.write.mode(\"overwrite\").saveAsTable(\"teams\")"
   ]
  },
  {
   "cell_type": "code",
   "execution_count": 0,
   "metadata": {
    "application/vnd.databricks.v1+cell": {
     "cellMetadata": {},
     "inputWidgets": {},
     "nuid": "04a4a5bd-ec88-4c35-9c89-829298bdae02",
     "showTitle": false,
     "tableResultSettingsMap": {},
     "title": ""
    }
   },
   "outputs": [],
   "source": [
    "# Save DataFrames as Delta tables in Databricks\n",
    "athletes_df.write.mode(\"overwrite\").saveAsTable(\"tokyo_olympics.athletes\")\n",
    "coaches_df.write.mode(\"overwrite\").saveAsTable(\"tokyo_olympics.coaches\")\n",
    "entries_gender_df.write.mode(\"overwrite\").saveAsTable(\"tokyo_olympics.entries_gender\")\n",
    "medals_df.write.mode(\"overwrite\").saveAsTable(\"tokyo_olympics.medals\")\n",
    "teams_df.write.mode(\"overwrite\").saveAsTable(\"tokyo_olympics.teams\")\n"
   ]
  }
 ],
 "metadata": {
  "application/vnd.databricks.v1+notebook": {
   "computePreferences": null,
   "dashboards": [],
   "environmentMetadata": null,
   "inputWidgetPreferences": null,
   "language": "python",
   "notebookMetadata": {
    "mostRecentlyExecutedCommandWithImplicitDF": {
     "commandId": 7044259690586002,
     "dataframes": [
      "_sqldf"
     ]
    },
    "pythonIndentUnit": 4
   },
   "notebookName": "Tokyo Olympic Transformation",
   "widgets": {}
  },
  "language_info": {
   "name": "python"
  }
 },
 "nbformat": 4,
 "nbformat_minor": 0
}
